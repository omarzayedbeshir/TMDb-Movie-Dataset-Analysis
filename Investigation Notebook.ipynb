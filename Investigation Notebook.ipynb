{
 "cells": [
  {
   "cell_type": "markdown",
   "metadata": {},
   "source": [
    "# TMDb Movie Data Analysis\n",
    "\n",
    "## Table of Contents\n",
    "<ul>\n",
    "<li><a href=\"#intro\">Introduction</a></li>\n",
    "<li><a href=\"#wrangling\">Data Wrangling</a></li>\n",
    "<li><a href=\"#eda\">Exploratory Data Analysis</a></li>\n",
    "<li><a href=\"#conclusions\">Conclusions</a></li>\n",
    "</ul>"
   ]
  },
  {
   "cell_type": "markdown",
   "metadata": {},
   "source": [
    "<a id='intro'></a>\n",
    "## Introduction\n",
    "This is a data analysis of the TMDb dataset which includes a large collection of movies. We'll clean the data, ask questions about it, answer it and conclude with the results.\n",
    "There is also a machine learning model predicting revenue from the budget."
   ]
  },
  {
   "cell_type": "code",
   "execution_count": 1,
   "metadata": {},
   "outputs": [],
   "source": [
    "%%capture\n",
    "!pip install pandas numpy matplotlib bs4 tqdm"
   ]
  },
  {
   "cell_type": "code",
   "execution_count": 2,
   "metadata": {},
   "outputs": [],
   "source": [
    "import pandas as pd\n",
    "import numpy as np\n",
    "import matplotlib.pyplot as plt\n",
    "from bs4 import BeautifulSoup\n",
    "import requests\n",
    "import re\n",
    "from tqdm.notebook import tqdm\n",
    "\n",
    "%matplotlib inline"
   ]
  },
  {
   "cell_type": "code",
   "execution_count": 74,
   "metadata": {},
   "outputs": [],
   "source": [
    "plt.style.use(['seaborn-pastel'])"
   ]
  },
  {
   "cell_type": "markdown",
   "metadata": {},
   "source": [
    "### Questions of the Analysis"
   ]
  },
  {
   "cell_type": "markdown",
   "metadata": {},
   "source": [
    "**Q1- Do movies that people like have a higher revenue?<br>**\n",
    "**Q2- Are action movies creating more revenue?<br>**\n",
    "**Q3- Which year had most movies produced?<br>**\n",
    "**Q4- Will investing more in a movie increase profit?<br>**"
   ]
  },
  {
   "cell_type": "markdown",
   "metadata": {},
   "source": [
    "<a id='wrangling'></a>\n",
    "## Data Wrangling"
   ]
  },
  {
   "cell_type": "markdown",
   "metadata": {},
   "source": [
    "### Loading the dataset"
   ]
  },
  {
   "cell_type": "code",
   "execution_count": 235,
   "metadata": {},
   "outputs": [],
   "source": [
    "df = pd.read_csv('tmdb-movies.csv')"
   ]
  },
  {
   "cell_type": "markdown",
   "metadata": {},
   "source": [
    "The data is in CSV format, so we used the ```read_csv()``` function."
   ]
  },
  {
   "cell_type": "markdown",
   "metadata": {},
   "source": [
    "### Sampling the dataset"
   ]
  },
  {
   "cell_type": "markdown",
   "metadata": {},
   "source": [
    "Sampling the data will give use some confidence when dealing with the data. Here, we'll sample 5 records."
   ]
  },
  {
   "cell_type": "code",
   "execution_count": 236,
   "metadata": {
    "scrolled": true
   },
   "outputs": [
    {
     "data": {
      "text/html": [
       "<div>\n",
       "<style scoped>\n",
       "    .dataframe tbody tr th:only-of-type {\n",
       "        vertical-align: middle;\n",
       "    }\n",
       "\n",
       "    .dataframe tbody tr th {\n",
       "        vertical-align: top;\n",
       "    }\n",
       "\n",
       "    .dataframe thead th {\n",
       "        text-align: right;\n",
       "    }\n",
       "</style>\n",
       "<table border=\"1\" class=\"dataframe\">\n",
       "  <thead>\n",
       "    <tr style=\"text-align: right;\">\n",
       "      <th></th>\n",
       "      <th>id</th>\n",
       "      <th>imdb_id</th>\n",
       "      <th>popularity</th>\n",
       "      <th>budget</th>\n",
       "      <th>revenue</th>\n",
       "      <th>original_title</th>\n",
       "      <th>cast</th>\n",
       "      <th>homepage</th>\n",
       "      <th>director</th>\n",
       "      <th>tagline</th>\n",
       "      <th>...</th>\n",
       "      <th>overview</th>\n",
       "      <th>runtime</th>\n",
       "      <th>genres</th>\n",
       "      <th>production_companies</th>\n",
       "      <th>release_date</th>\n",
       "      <th>vote_count</th>\n",
       "      <th>vote_average</th>\n",
       "      <th>release_year</th>\n",
       "      <th>budget_adj</th>\n",
       "      <th>revenue_adj</th>\n",
       "    </tr>\n",
       "  </thead>\n",
       "  <tbody>\n",
       "    <tr>\n",
       "      <th>3061</th>\n",
       "      <td>14011</td>\n",
       "      <td>tt0902272</td>\n",
       "      <td>0.480116</td>\n",
       "      <td>3500000</td>\n",
       "      <td>5231128</td>\n",
       "      <td>Justice League: The New Frontier</td>\n",
       "      <td>David Boreanaz|Neil Patrick Harris|Brooke Shie...</td>\n",
       "      <td>http://www.dccomics.com/sites/newfrontier/</td>\n",
       "      <td>Dave Bullock</td>\n",
       "      <td>We stand, today, on the edge of a new frontier...</td>\n",
       "      <td>...</td>\n",
       "      <td>The human race is threatened by a powerful cre...</td>\n",
       "      <td>75</td>\n",
       "      <td>Action|Adventure|Animation|Science Fiction</td>\n",
       "      <td>Warner Bros. Entertainment|DC Comics</td>\n",
       "      <td>2/26/08</td>\n",
       "      <td>66</td>\n",
       "      <td>6.3</td>\n",
       "      <td>2008</td>\n",
       "      <td>3.544753e+06</td>\n",
       "      <td>5.298017e+06</td>\n",
       "    </tr>\n",
       "    <tr>\n",
       "      <th>7967</th>\n",
       "      <td>9507</td>\n",
       "      <td>tt0088024</td>\n",
       "      <td>0.190287</td>\n",
       "      <td>0</td>\n",
       "      <td>0</td>\n",
       "      <td>Runaway</td>\n",
       "      <td>Tom Selleck|Cynthia Rhodes|Gene Simmons|Kirsti...</td>\n",
       "      <td>NaN</td>\n",
       "      <td>Michael Crichton</td>\n",
       "      <td>IT IS THE FUTURE. Machines are being programme...</td>\n",
       "      <td>...</td>\n",
       "      <td>In the near future, a police officer specializ...</td>\n",
       "      <td>100</td>\n",
       "      <td>Thriller|Crime|Science Fiction</td>\n",
       "      <td>TriStar Pictures</td>\n",
       "      <td>12/14/84</td>\n",
       "      <td>31</td>\n",
       "      <td>4.7</td>\n",
       "      <td>1984</td>\n",
       "      <td>0.000000e+00</td>\n",
       "      <td>0.000000e+00</td>\n",
       "    </tr>\n",
       "    <tr>\n",
       "      <th>5975</th>\n",
       "      <td>194722</td>\n",
       "      <td>tt1483324</td>\n",
       "      <td>0.245457</td>\n",
       "      <td>2500000</td>\n",
       "      <td>0</td>\n",
       "      <td>At Middleton</td>\n",
       "      <td>Vera Farmiga|Andy GarcÃ­a|Taissa Farmiga|Spenc...</td>\n",
       "      <td>https://www.facebook.com/AtMiddleton</td>\n",
       "      <td>Adam Rogers</td>\n",
       "      <td>You never know what you'll discover on your fi...</td>\n",
       "      <td>...</td>\n",
       "      <td>Two parents fall in love over the course of a ...</td>\n",
       "      <td>101</td>\n",
       "      <td>Romance|Comedy</td>\n",
       "      <td>CineSon Entertainment|Look at the Moon Product...</td>\n",
       "      <td>5/17/13</td>\n",
       "      <td>29</td>\n",
       "      <td>6.0</td>\n",
       "      <td>2013</td>\n",
       "      <td>2.340083e+06</td>\n",
       "      <td>0.000000e+00</td>\n",
       "    </tr>\n",
       "    <tr>\n",
       "      <th>2557</th>\n",
       "      <td>13428</td>\n",
       "      <td>tt0145547</td>\n",
       "      <td>0.265623</td>\n",
       "      <td>0</td>\n",
       "      <td>0</td>\n",
       "      <td>Two Hands</td>\n",
       "      <td>Heath Ledger|Bryan Brown|Rose Byrne|David Fiel...</td>\n",
       "      <td>NaN</td>\n",
       "      <td>Gregor Jordan</td>\n",
       "      <td>It was only one mistake, but it was a big one.</td>\n",
       "      <td>...</td>\n",
       "      <td>A 19 year old finds himself in debt to a local...</td>\n",
       "      <td>103</td>\n",
       "      <td>Comedy|Crime|Thriller</td>\n",
       "      <td>CML Films|Meridian Films</td>\n",
       "      <td>7/29/99</td>\n",
       "      <td>23</td>\n",
       "      <td>5.4</td>\n",
       "      <td>1999</td>\n",
       "      <td>0.000000e+00</td>\n",
       "      <td>0.000000e+00</td>\n",
       "    </tr>\n",
       "    <tr>\n",
       "      <th>1651</th>\n",
       "      <td>37178</td>\n",
       "      <td>tt1219836</td>\n",
       "      <td>0.381469</td>\n",
       "      <td>0</td>\n",
       "      <td>0</td>\n",
       "      <td>Virtuality</td>\n",
       "      <td>Nikolaj Coster-Waldau|Kerry BishÃ©|Joy Bryant|...</td>\n",
       "      <td>NaN</td>\n",
       "      <td>Peter Berg</td>\n",
       "      <td>Reality is only the beginning.</td>\n",
       "      <td>...</td>\n",
       "      <td>Twelve extremely talented men and women have b...</td>\n",
       "      <td>87</td>\n",
       "      <td>Drama|Romance|Science Fiction|Thriller</td>\n",
       "      <td>NaN</td>\n",
       "      <td>6/26/09</td>\n",
       "      <td>20</td>\n",
       "      <td>4.6</td>\n",
       "      <td>2009</td>\n",
       "      <td>0.000000e+00</td>\n",
       "      <td>0.000000e+00</td>\n",
       "    </tr>\n",
       "  </tbody>\n",
       "</table>\n",
       "<p>5 rows × 21 columns</p>\n",
       "</div>"
      ],
      "text/plain": [
       "          id    imdb_id  popularity   budget  revenue  \\\n",
       "3061   14011  tt0902272    0.480116  3500000  5231128   \n",
       "7967    9507  tt0088024    0.190287        0        0   \n",
       "5975  194722  tt1483324    0.245457  2500000        0   \n",
       "2557   13428  tt0145547    0.265623        0        0   \n",
       "1651   37178  tt1219836    0.381469        0        0   \n",
       "\n",
       "                        original_title  \\\n",
       "3061  Justice League: The New Frontier   \n",
       "7967                           Runaway   \n",
       "5975                      At Middleton   \n",
       "2557                         Two Hands   \n",
       "1651                        Virtuality   \n",
       "\n",
       "                                                   cast  \\\n",
       "3061  David Boreanaz|Neil Patrick Harris|Brooke Shie...   \n",
       "7967  Tom Selleck|Cynthia Rhodes|Gene Simmons|Kirsti...   \n",
       "5975  Vera Farmiga|Andy GarcÃ­a|Taissa Farmiga|Spenc...   \n",
       "2557  Heath Ledger|Bryan Brown|Rose Byrne|David Fiel...   \n",
       "1651  Nikolaj Coster-Waldau|Kerry BishÃ©|Joy Bryant|...   \n",
       "\n",
       "                                        homepage          director  \\\n",
       "3061  http://www.dccomics.com/sites/newfrontier/      Dave Bullock   \n",
       "7967                                         NaN  Michael Crichton   \n",
       "5975        https://www.facebook.com/AtMiddleton       Adam Rogers   \n",
       "2557                                         NaN     Gregor Jordan   \n",
       "1651                                         NaN        Peter Berg   \n",
       "\n",
       "                                                tagline  ...  \\\n",
       "3061  We stand, today, on the edge of a new frontier...  ...   \n",
       "7967  IT IS THE FUTURE. Machines are being programme...  ...   \n",
       "5975  You never know what you'll discover on your fi...  ...   \n",
       "2557     It was only one mistake, but it was a big one.  ...   \n",
       "1651                     Reality is only the beginning.  ...   \n",
       "\n",
       "                                               overview runtime  \\\n",
       "3061  The human race is threatened by a powerful cre...      75   \n",
       "7967  In the near future, a police officer specializ...     100   \n",
       "5975  Two parents fall in love over the course of a ...     101   \n",
       "2557  A 19 year old finds himself in debt to a local...     103   \n",
       "1651  Twelve extremely talented men and women have b...      87   \n",
       "\n",
       "                                          genres  \\\n",
       "3061  Action|Adventure|Animation|Science Fiction   \n",
       "7967              Thriller|Crime|Science Fiction   \n",
       "5975                              Romance|Comedy   \n",
       "2557                       Comedy|Crime|Thriller   \n",
       "1651      Drama|Romance|Science Fiction|Thriller   \n",
       "\n",
       "                                   production_companies release_date  \\\n",
       "3061               Warner Bros. Entertainment|DC Comics      2/26/08   \n",
       "7967                                   TriStar Pictures     12/14/84   \n",
       "5975  CineSon Entertainment|Look at the Moon Product...      5/17/13   \n",
       "2557                           CML Films|Meridian Films      7/29/99   \n",
       "1651                                                NaN      6/26/09   \n",
       "\n",
       "     vote_count  vote_average  release_year    budget_adj   revenue_adj  \n",
       "3061         66           6.3          2008  3.544753e+06  5.298017e+06  \n",
       "7967         31           4.7          1984  0.000000e+00  0.000000e+00  \n",
       "5975         29           6.0          2013  2.340083e+06  0.000000e+00  \n",
       "2557         23           5.4          1999  0.000000e+00  0.000000e+00  \n",
       "1651         20           4.6          2009  0.000000e+00  0.000000e+00  \n",
       "\n",
       "[5 rows x 21 columns]"
      ]
     },
     "execution_count": 236,
     "metadata": {},
     "output_type": "execute_result"
    }
   ],
   "source": [
    "df.sample(5)"
   ]
  },
  {
   "cell_type": "markdown",
   "metadata": {},
   "source": [
    "By looking at the sample, we now have an idea of how the dataset is structured. One thing to be noticed is that 4 out of the 5 samples don't have a homepage. We will not need this data anyways, and will be removed later in the notebook. One other thing to notice is that some films have their budget and revenue set to 0. As this is unreasonable, we'll fetch the data from another source.<br>\n",
    "<span style=\"color: red;\"><b>NOTE THAT THIS MIGHT NOT APPLY TO ALL/CURRENT SAMPLES.</b></span>"
   ]
  },
  {
   "cell_type": "markdown",
   "metadata": {},
   "source": [
    "### Understanding the data types present"
   ]
  },
  {
   "cell_type": "code",
   "execution_count": 237,
   "metadata": {},
   "outputs": [
    {
     "data": {
      "text/plain": [
       "id                        int64\n",
       "imdb_id                  object\n",
       "popularity              float64\n",
       "budget                    int64\n",
       "revenue                   int64\n",
       "original_title           object\n",
       "cast                     object\n",
       "homepage                 object\n",
       "director                 object\n",
       "tagline                  object\n",
       "keywords                 object\n",
       "overview                 object\n",
       "runtime                   int64\n",
       "genres                   object\n",
       "production_companies     object\n",
       "release_date             object\n",
       "vote_count                int64\n",
       "vote_average            float64\n",
       "release_year              int64\n",
       "budget_adj              float64\n",
       "revenue_adj             float64\n",
       "dtype: object"
      ]
     },
     "execution_count": 237,
     "metadata": {},
     "output_type": "execute_result"
    }
   ],
   "source": [
    "df.dtypes"
   ]
  },
  {
   "cell_type": "markdown",
   "metadata": {},
   "source": [
    "Here, we see that all of the columns have the appropriate data type, so no need for conversion."
   ]
  },
  {
   "cell_type": "markdown",
   "metadata": {},
   "source": [
    "### Summary Statistics"
   ]
  },
  {
   "cell_type": "code",
   "execution_count": 238,
   "metadata": {
    "scrolled": true
   },
   "outputs": [
    {
     "data": {
      "text/html": [
       "<div>\n",
       "<style scoped>\n",
       "    .dataframe tbody tr th:only-of-type {\n",
       "        vertical-align: middle;\n",
       "    }\n",
       "\n",
       "    .dataframe tbody tr th {\n",
       "        vertical-align: top;\n",
       "    }\n",
       "\n",
       "    .dataframe thead th {\n",
       "        text-align: right;\n",
       "    }\n",
       "</style>\n",
       "<table border=\"1\" class=\"dataframe\">\n",
       "  <thead>\n",
       "    <tr style=\"text-align: right;\">\n",
       "      <th></th>\n",
       "      <th>id</th>\n",
       "      <th>popularity</th>\n",
       "      <th>budget</th>\n",
       "      <th>revenue</th>\n",
       "      <th>runtime</th>\n",
       "      <th>vote_count</th>\n",
       "      <th>vote_average</th>\n",
       "      <th>release_year</th>\n",
       "      <th>budget_adj</th>\n",
       "      <th>revenue_adj</th>\n",
       "    </tr>\n",
       "  </thead>\n",
       "  <tbody>\n",
       "    <tr>\n",
       "      <th>count</th>\n",
       "      <td>10866.000000</td>\n",
       "      <td>10866.000000</td>\n",
       "      <td>1.086600e+04</td>\n",
       "      <td>1.086600e+04</td>\n",
       "      <td>10866.000000</td>\n",
       "      <td>10866.000000</td>\n",
       "      <td>10866.000000</td>\n",
       "      <td>10866.000000</td>\n",
       "      <td>1.086600e+04</td>\n",
       "      <td>1.086600e+04</td>\n",
       "    </tr>\n",
       "    <tr>\n",
       "      <th>mean</th>\n",
       "      <td>66064.177434</td>\n",
       "      <td>0.646441</td>\n",
       "      <td>1.462570e+07</td>\n",
       "      <td>3.982332e+07</td>\n",
       "      <td>102.070863</td>\n",
       "      <td>217.389748</td>\n",
       "      <td>5.974922</td>\n",
       "      <td>2001.322658</td>\n",
       "      <td>1.755104e+07</td>\n",
       "      <td>5.136436e+07</td>\n",
       "    </tr>\n",
       "    <tr>\n",
       "      <th>std</th>\n",
       "      <td>92130.136561</td>\n",
       "      <td>1.000185</td>\n",
       "      <td>3.091321e+07</td>\n",
       "      <td>1.170035e+08</td>\n",
       "      <td>31.381405</td>\n",
       "      <td>575.619058</td>\n",
       "      <td>0.935142</td>\n",
       "      <td>12.812941</td>\n",
       "      <td>3.430616e+07</td>\n",
       "      <td>1.446325e+08</td>\n",
       "    </tr>\n",
       "    <tr>\n",
       "      <th>min</th>\n",
       "      <td>5.000000</td>\n",
       "      <td>0.000065</td>\n",
       "      <td>0.000000e+00</td>\n",
       "      <td>0.000000e+00</td>\n",
       "      <td>0.000000</td>\n",
       "      <td>10.000000</td>\n",
       "      <td>1.500000</td>\n",
       "      <td>1960.000000</td>\n",
       "      <td>0.000000e+00</td>\n",
       "      <td>0.000000e+00</td>\n",
       "    </tr>\n",
       "    <tr>\n",
       "      <th>25%</th>\n",
       "      <td>10596.250000</td>\n",
       "      <td>0.207583</td>\n",
       "      <td>0.000000e+00</td>\n",
       "      <td>0.000000e+00</td>\n",
       "      <td>90.000000</td>\n",
       "      <td>17.000000</td>\n",
       "      <td>5.400000</td>\n",
       "      <td>1995.000000</td>\n",
       "      <td>0.000000e+00</td>\n",
       "      <td>0.000000e+00</td>\n",
       "    </tr>\n",
       "    <tr>\n",
       "      <th>50%</th>\n",
       "      <td>20669.000000</td>\n",
       "      <td>0.383856</td>\n",
       "      <td>0.000000e+00</td>\n",
       "      <td>0.000000e+00</td>\n",
       "      <td>99.000000</td>\n",
       "      <td>38.000000</td>\n",
       "      <td>6.000000</td>\n",
       "      <td>2006.000000</td>\n",
       "      <td>0.000000e+00</td>\n",
       "      <td>0.000000e+00</td>\n",
       "    </tr>\n",
       "    <tr>\n",
       "      <th>75%</th>\n",
       "      <td>75610.000000</td>\n",
       "      <td>0.713817</td>\n",
       "      <td>1.500000e+07</td>\n",
       "      <td>2.400000e+07</td>\n",
       "      <td>111.000000</td>\n",
       "      <td>145.750000</td>\n",
       "      <td>6.600000</td>\n",
       "      <td>2011.000000</td>\n",
       "      <td>2.085325e+07</td>\n",
       "      <td>3.369710e+07</td>\n",
       "    </tr>\n",
       "    <tr>\n",
       "      <th>max</th>\n",
       "      <td>417859.000000</td>\n",
       "      <td>32.985763</td>\n",
       "      <td>4.250000e+08</td>\n",
       "      <td>2.781506e+09</td>\n",
       "      <td>900.000000</td>\n",
       "      <td>9767.000000</td>\n",
       "      <td>9.200000</td>\n",
       "      <td>2015.000000</td>\n",
       "      <td>4.250000e+08</td>\n",
       "      <td>2.827124e+09</td>\n",
       "    </tr>\n",
       "  </tbody>\n",
       "</table>\n",
       "</div>"
      ],
      "text/plain": [
       "                  id    popularity        budget       revenue       runtime  \\\n",
       "count   10866.000000  10866.000000  1.086600e+04  1.086600e+04  10866.000000   \n",
       "mean    66064.177434      0.646441  1.462570e+07  3.982332e+07    102.070863   \n",
       "std     92130.136561      1.000185  3.091321e+07  1.170035e+08     31.381405   \n",
       "min         5.000000      0.000065  0.000000e+00  0.000000e+00      0.000000   \n",
       "25%     10596.250000      0.207583  0.000000e+00  0.000000e+00     90.000000   \n",
       "50%     20669.000000      0.383856  0.000000e+00  0.000000e+00     99.000000   \n",
       "75%     75610.000000      0.713817  1.500000e+07  2.400000e+07    111.000000   \n",
       "max    417859.000000     32.985763  4.250000e+08  2.781506e+09    900.000000   \n",
       "\n",
       "         vote_count  vote_average  release_year    budget_adj   revenue_adj  \n",
       "count  10866.000000  10866.000000  10866.000000  1.086600e+04  1.086600e+04  \n",
       "mean     217.389748      5.974922   2001.322658  1.755104e+07  5.136436e+07  \n",
       "std      575.619058      0.935142     12.812941  3.430616e+07  1.446325e+08  \n",
       "min       10.000000      1.500000   1960.000000  0.000000e+00  0.000000e+00  \n",
       "25%       17.000000      5.400000   1995.000000  0.000000e+00  0.000000e+00  \n",
       "50%       38.000000      6.000000   2006.000000  0.000000e+00  0.000000e+00  \n",
       "75%      145.750000      6.600000   2011.000000  2.085325e+07  3.369710e+07  \n",
       "max     9767.000000      9.200000   2015.000000  4.250000e+08  2.827124e+09  "
      ]
     },
     "execution_count": 238,
     "metadata": {},
     "output_type": "execute_result"
    }
   ],
   "source": [
    "df.describe()"
   ]
  },
  {
   "cell_type": "markdown",
   "metadata": {},
   "source": [
    "Here, we see the issue of budget and revenue being zero too. We also see that there is a runtime of 0, but we will not be using runtime in our analysis."
   ]
  },
  {
   "cell_type": "markdown",
   "metadata": {},
   "source": [
    "### Counting Null Values"
   ]
  },
  {
   "cell_type": "code",
   "execution_count": 239,
   "metadata": {},
   "outputs": [
    {
     "data": {
      "text/plain": [
       "id                         0\n",
       "imdb_id                   10\n",
       "popularity                 0\n",
       "budget                     0\n",
       "revenue                    0\n",
       "original_title             0\n",
       "cast                      76\n",
       "homepage                7930\n",
       "director                  44\n",
       "tagline                 2824\n",
       "keywords                1493\n",
       "overview                   4\n",
       "runtime                    0\n",
       "genres                    23\n",
       "production_companies    1030\n",
       "release_date               0\n",
       "vote_count                 0\n",
       "vote_average               0\n",
       "release_year               0\n",
       "budget_adj                 0\n",
       "revenue_adj                0\n",
       "dtype: int64"
      ]
     },
     "execution_count": 239,
     "metadata": {},
     "output_type": "execute_result"
    }
   ],
   "source": [
    "df.isna().sum()"
   ]
  },
  {
   "cell_type": "markdown",
   "metadata": {},
   "source": [
    "Most fields are free from null values, though there are fields with them. To make sure that that is not a big proportion, we'll find out how big the dataset is:"
   ]
  },
  {
   "cell_type": "code",
   "execution_count": 240,
   "metadata": {},
   "outputs": [
    {
     "data": {
      "text/plain": [
       "10866"
      ]
     },
     "execution_count": 240,
     "metadata": {},
     "output_type": "execute_result"
    }
   ],
   "source": [
    "len(df.index)"
   ]
  },
  {
   "cell_type": "markdown",
   "metadata": {},
   "source": [
    "This is not a big proportion, so we will not bother scraping or finding the values."
   ]
  },
  {
   "cell_type": "markdown",
   "metadata": {},
   "source": [
    "### Data Cleaning (Removing Unnecessary Columns and Filling Nulls)"
   ]
  },
  {
   "cell_type": "code",
   "execution_count": 241,
   "metadata": {},
   "outputs": [],
   "source": [
    "df.drop(['runtime', 'tagline', 'overview', 'homepage', 'cast', 'director', 'keywords', 'overview', 'homepage', 'production_companies', 'popularity'], inplace=True, axis=1)"
   ]
  },
  {
   "cell_type": "markdown",
   "metadata": {},
   "source": [
    "Here, we've removed all of the columns which are of no use to our questions. Next, we'll look at the null values issue."
   ]
  },
  {
   "cell_type": "code",
   "execution_count": 242,
   "metadata": {},
   "outputs": [
    {
     "data": {
      "text/plain": [
       "id                 0\n",
       "imdb_id           10\n",
       "budget             0\n",
       "revenue            0\n",
       "original_title     0\n",
       "genres            23\n",
       "release_date       0\n",
       "vote_count         0\n",
       "vote_average       0\n",
       "release_year       0\n",
       "budget_adj         0\n",
       "revenue_adj        0\n",
       "dtype: int64"
      ]
     },
     "execution_count": 242,
     "metadata": {},
     "output_type": "execute_result"
    }
   ],
   "source": [
    "df.isna().sum()"
   ]
  },
  {
   "cell_type": "markdown",
   "metadata": {},
   "source": [
    "Now, the null values problem is not a big issue anymore. We can ignore them now, as they don't have a big impact."
   ]
  },
  {
   "cell_type": "markdown",
   "metadata": {},
   "source": [
    "### Adding Missing Values"
   ]
  },
  {
   "cell_type": "markdown",
   "metadata": {},
   "source": [
    "Next, we'll scrape the missing values for the budget and revenue from the TMDB site. It also converts the revenue to 2010 dollars.<br>\n",
    "<span style=\"color: red;\">**NOTE THAT RUNNING THE FOLLOWING CELL TAKES A VERY LONG TIME (1-2 HOURS). IF YOU WANT TO SKIP RUNNING IT, YOU CAN GET THE FILE WITH THE NEW DATA IN THE CELL LOADING FROM `scraped.csv`.**</span>"
   ]
  },
  {
   "cell_type": "code",
   "execution_count": null,
   "metadata": {},
   "outputs": [],
   "source": [
    "for x in tqdm(range(len(df))):\n",
    "    if df.iloc[x].budget == 0 or df.iloc[x].revenue == 0:\n",
    "        try:\n",
    "            website = 'https://www.themoviedb.org/movie/' + str(df.iloc[x].id)\n",
    "            response = requests.get(website)\n",
    "            content = response.text\n",
    "            soup = BeautifulSoup(content, 'lxml')\n",
    "            soup = soup.find('section', class_='left_column')\n",
    "            if df.iloc[x].budget == 0:\n",
    "                budget_soup = soup.find('p').findNext(\"p\").findNext(\"p\").get_text()\n",
    "                budget = budget_soup[8:]\n",
    "                factor = float(requests.get(\"https://www.statbureau.org/calculate-inflation-price-jsonp?country=united-states&start=\" + str(df.iloc[x].release_year) + \"/1/1&end=2010/1/1&amount=1&format=true\").text[3:][:-2])\n",
    "                if len(budget) != 0:\n",
    "                    df.iloc.budget_adj = df.iloc[x].budget * factor\n",
    "                    df[df.id == str(df.iloc[x].id)].budget = budget\n",
    "            if df.iloc[x].revenue == 0:\n",
    "                revenue_soup = soup.find('p').findNext(\"p\").findNext(\"p\").findNext(\"p\").get_text()\n",
    "                revenue = revenue_soup[9:]\n",
    "                if len(revenue) != 0:\n",
    "                    df[df.id == str(df.iloc[x].id)].revenue = revenue\n",
    "                    df.iloc.revenue_adj = df.iloc[x].revenue * factor\n",
    "        except:\n",
    "            pass"
   ]
  },
  {
   "cell_type": "code",
   "execution_count": 131,
   "metadata": {},
   "outputs": [],
   "source": [
    "df.to_csv('scraped.csv')"
   ]
  },
  {
   "cell_type": "code",
   "execution_count": 11,
   "metadata": {},
   "outputs": [],
   "source": [
    "df = pd.read_csv('scraped.csv')"
   ]
  },
  {
   "cell_type": "markdown",
   "metadata": {},
   "source": [
    "<a id='eda'></a>\n",
    "## Exploratory Data Analysis"
   ]
  },
  {
   "cell_type": "code",
   "execution_count": 243,
   "metadata": {},
   "outputs": [],
   "source": [
    "def custom_plot(df_col1, df_col2, title, x_title, y_title):\n",
    "    \"\"\"\n",
    "    Input:\n",
    "    \n",
    "    df_co1: This column will represent the X-axis in the plot.\n",
    "    df_co3: This column will represent the Y-axis in the plot.\n",
    "    title: This is the title of the graph, which will be placed on the top of the graph.\n",
    "    x_title: X-axis label\n",
    "    y_title: Y-axis label\n",
    "    \n",
    "    Output:\n",
    "    This function does not return a value. Instead, it plots a graph of the 2 variables given in, as \n",
    "    well as calculating the correlation using NumPy. A straight line is also drawn on the scatter \n",
    "    plot, with its m and b values printed above the plot.\n",
    "    \"\"\"\n",
    "    m, b = np.polyfit(df_col1, df_col2, 1)\n",
    "    x, y = df_col1, df_col2\n",
    "    c = float(df_col1.corr(df_col2))\n",
    "    plt.title(title + ', Correlation:' + \"{:.2f}\".format(c))\n",
    "    plt.xlabel(x_title)\n",
    "    plt.ylabel(y_title)\n",
    "    plt.scatter(x, y, s=10);\n",
    "    x = np.linspace(x.min(),x.max())\n",
    "    plt.plot(x, m*x+b,'-r');\n",
    "    plt.grid()\n",
    "    print('gradient: ', m)\n",
    "    print('y-intercept: ', b)"
   ]
  },
  {
   "cell_type": "markdown",
   "metadata": {},
   "source": [
    "This is a custom function that'll be used throughout the analysis."
   ]
  },
  {
   "cell_type": "markdown",
   "metadata": {},
   "source": [
    "### Do movies that people like have a higher revenue?"
   ]
  },
  {
   "cell_type": "code",
   "execution_count": 244,
   "metadata": {},
   "outputs": [
    {
     "name": "stdout",
     "output_type": "stream",
     "text": [
      "gradient:  60347333.47509043\n",
      "y-intercept:  -255984089.50878114\n"
     ]
    },
    {
     "data": {
      "image/png": "[encoded data removed]",
      "text/plain": [
       "<Figure size 432x288 with 1 Axes>"
      ]
     },
     "metadata": {
      "needs_background": "light"
     },
     "output_type": "display_data"
    }
   ],
   "source": [
    "x = df[df['revenue'] != 0]['vote_average']\n",
    "y = df[df['revenue'] != 0]['revenue_adj']\n",
    "custom_plot(x, y, 'Rating Against Profit', 'Average Vote', 'Revenue')"
   ]
  },
  {
   "cell_type": "markdown",
   "metadata": {},
   "source": [
    "The answer is not really. After calculating the correlation between both variables, it seems to be not closer to 0 than 1."
   ]
  },
  {
   "cell_type": "markdown",
   "metadata": {},
   "source": [
    "### Are action movies creating more revenue?"
   ]
  },
  {
   "cell_type": "code",
   "execution_count": 245,
   "metadata": {},
   "outputs": [
    {
     "name": "stdout",
     "output_type": "stream",
     "text": [
      "gradient:  -131770.85345528065\n",
      "y-intercept:  355269866.9072296\n"
     ]
    },
    {
     "data": {
      "image/png": "[encoded data removed]",
      "text/plain": [
       "<Figure size 432x288 with 1 Axes>"
      ]
     },
     "metadata": {
      "needs_background": "light"
     },
     "output_type": "display_data"
    }
   ],
   "source": [
    "years = []\n",
    "revenue = []\n",
    "for x in range(len(df)):\n",
    "    if 'Action' in str(df.iloc[x].genres):\n",
    "        years.append(df.iloc[x].release_year)\n",
    "        revenue.append(df.iloc[x].revenue_adj)\n",
    "\n",
    "years = pd.Series(years)\n",
    "revenue = pd.Series(revenue)\n",
    "custom_plot(years, revenue, \"Revenue of Action Movies\", 'Years', 'Revenue')"
   ]
  },
  {
   "cell_type": "markdown",
   "metadata": {},
   "source": [
    "A correlation of -0.01 shows that there is a stable market for action movies."
   ]
  },
  {
   "cell_type": "markdown",
   "metadata": {},
   "source": [
    "### Which year had most movies produced? (Single Variable Analysis)"
   ]
  },
  {
   "cell_type": "code",
   "execution_count": 231,
   "metadata": {},
   "outputs": [
    {
     "name": "stdout",
     "output_type": "stream",
     "text": [
      "The year with most releases is 2014.\n"
     ]
    }
   ],
   "source": [
    "print(\"The year with most releases is\", str(int(df.release_year.mode())) + '.')"
   ]
  },
  {
   "cell_type": "markdown",
   "metadata": {},
   "source": [
    "The mode is 2014."
   ]
  },
  {
   "cell_type": "markdown",
   "metadata": {},
   "source": [
    "### Will investing more in a movie increase profit?"
   ]
  },
  {
   "cell_type": "code",
   "execution_count": 246,
   "metadata": {
    "scrolled": true
   },
   "outputs": [
    {
     "name": "stdout",
     "output_type": "stream",
     "text": [
      "gradient:  2.7260542335760505\n",
      "y-intercept:  3519276.84040864\n"
     ]
    },
    {
     "data": {
      "image/png": "[encoded data removed]",
      "text/plain": [
       "<Figure size 432x288 with 1 Axes>"
      ]
     },
     "metadata": {
      "needs_background": "light"
     },
     "output_type": "display_data"
    }
   ],
   "source": [
    "x = df['budget_adj']\n",
    "y = df['revenue_adj']\n",
    "custom_plot(x, y, \"Revenue Against Budget\", 'Budget', 'Revenue')"
   ]
  },
  {
   "cell_type": "markdown",
   "metadata": {},
   "source": [
    "We have a strong correlation of 0.65. This shows that there is a positive relationship between the 2 variables. We can therefore create a machine learning model that can, to some degree, make a good estimate of the revenue with a given budget."
   ]
  },
  {
   "cell_type": "markdown",
   "metadata": {},
   "source": [
    "### Linear Regression | Predicting Revenue From a Given Budget"
   ]
  },
  {
   "cell_type": "code",
   "execution_count": 247,
   "metadata": {},
   "outputs": [],
   "source": [
    "def revenue_from_budget(budget, revenue):\n",
    "    predicted_revenue = 2.7260542335760505 * budget + 3519276.84040864\n",
    "    # The values used above are from the plot above.\n",
    "    print(\"Predicted Revenue:\", predicted_revenue)\n",
    "    print(\"Actual Revenue:\", revenue)"
   ]
  },
  {
   "cell_type": "code",
   "execution_count": 203,
   "metadata": {},
   "outputs": [],
   "source": [
    "point = 2"
   ]
  },
  {
   "cell_type": "code",
   "execution_count": 204,
   "metadata": {},
   "outputs": [
    {
     "name": "stdout",
     "output_type": "stream",
     "text": [
      "Predicted Revenue: 279395843.8926138\n",
      "Actual Revenue: 271619025.407628\n"
     ]
    }
   ],
   "source": [
    "revenue_from_budget(df.iloc[point].budget_adj, df.iloc[point].revenue_adj)"
   ]
  },
  {
   "cell_type": "code",
   "execution_count": 249,
   "metadata": {},
   "outputs": [
    {
     "data": {
      "application/vnd.jupyter.widget-view+json": {
       "model_id": "d9e0b99317f449e5a22f288f6234c843",
       "version_major": 2,
       "version_minor": 0
      },
      "text/plain": [
       "  0%|          | 0/10866 [00:00<?, ?it/s]"
      ]
     },
     "metadata": {},
     "output_type": "display_data"
    }
   ],
   "source": [
    "total_square_distances = 0\n",
    "for x in tqdm(range(len(df))):\n",
    "    # This calculates the square distance of the point x from the prediction. Further down the cell, we calculate the mean.\n",
    "    total_square_distances += ((2.7260542335760505 * df.iloc[x].budget_adj + 3519276.84040864) - df.iloc[x].revenue_adj) ** 2\n",
    "\n",
    "mean_square_distance = total_square_distances / len(df)"
   ]
  },
  {
   "cell_type": "markdown",
   "metadata": {},
   "source": [
    "Here, we calculate the mean squared error."
   ]
  },
  {
   "cell_type": "code",
   "execution_count": 206,
   "metadata": {},
   "outputs": [
    {
     "name": "stdout",
     "output_type": "stream",
     "text": [
      "The Mean Square Distance: 1.2171362599546376e+16\n"
     ]
    }
   ],
   "source": [
    "print('The Mean Square Distance:', mean_square_distance)"
   ]
  },
  {
   "cell_type": "markdown",
   "metadata": {},
   "source": [
    "To test out this model, change the value of `point` in order to see the model's prediction on the data we have."
   ]
  },
  {
   "cell_type": "markdown",
   "metadata": {},
   "source": [
    "<a id='conclusions'></a>\n",
    "## Conclusions"
   ]
  },
  {
   "cell_type": "markdown",
   "metadata": {},
   "source": [
    "In this analysis, we've first understood the data we've been given, then we've performed some analysis in order to answer the 4 questions we've came up with in the beginning. <br>\n",
    "In summary, we found that if people don't like a film, that does not mean that it will not do well in terms of revenue. We've also found out that the year that movie production was at its peak was 2014, and that the action movie industry is a stable market where it is not affected as time has passed."
   ]
  },
  {
   "cell_type": "markdown",
   "metadata": {},
   "source": [
    "### Limitations"
   ]
  },
  {
   "cell_type": "markdown",
   "metadata": {},
   "source": [
    "Since our data AND data source has a lot of incorrect values, it is impossible to conclude confidently the relationship between 2 or more variables."
   ]
  },
  {
   "cell_type": "markdown",
   "metadata": {},
   "source": [
    "### Improving/Additional Research"
   ]
  },
  {
   "cell_type": "markdown",
   "metadata": {},
   "source": [
    "In order to improve this analysis, we can search for other sources of this same data that would provide us access, compare and perhaps concatenate them in order to have a more reliable data set to work with. Having this data would provide us the privilege to confidently show the relationships in the data."
   ]
  }
 ],
 "metadata": {
  "kernelspec": {
   "display_name": "Python 3",
   "language": "python",
   "name": "python3"
  },
  "language_info": {
   "codemirror_mode": {
    "name": "ipython",
    "version": 3
   },
   "file_extension": ".py",
   "mimetype": "text/x-python",
   "name": "python",
   "nbconvert_exporter": "python",
   "pygments_lexer": "ipython3",
   "version": "3.8.6"
  }
 },
 "nbformat": 4,
 "nbformat_minor": 2
}
